{
 "cells": [
  {
   "cell_type": "markdown",
   "id": "0f36fdf9",
   "metadata": {},
   "source": [
    "imports first"
   ]
  },
  {
   "cell_type": "code",
   "execution_count": 1,
   "id": "11ecdb6e",
   "metadata": {},
   "outputs": [],
   "source": [
    "import numpy as np\n",
    "import random as rd"
   ]
  },
  {
   "cell_type": "code",
   "execution_count": 2,
   "id": "fae125ca",
   "metadata": {},
   "outputs": [
    {
     "name": "stdout",
     "output_type": "stream",
     "text": [
      "The slope is: 0.27488076252101534\n",
      "\n",
      "The intercept is: 0.19690758879278003\n",
      "\n"
     ]
    }
   ],
   "source": [
    "    # randomly generating a slope and intercept\n",
    "    slope =  rd.random()\n",
    "    print(\"The slope is: \" + str(slope) + \"\\n\")\n",
    "    intercept = rd.random()\n",
    "    print(\"The intercept is: \" + str(intercept) + \"\\n\")"
   ]
  },
  {
   "cell_type": "code",
   "execution_count": 3,
   "id": "42338f73",
   "metadata": {},
   "outputs": [
    {
     "name": "stdout",
     "output_type": "stream",
     "text": [
      "The x_values are: [ 1.18303860e+01  6.35756981e+00  6.38046448e+00 -6.26034679e+00\n",
      " -9.87823161e+00 -7.11704627e-03  1.24998555e+01  2.14742079e+00\n",
      " -2.24702510e+00 -8.05290662e+00 -9.98041641e+00  1.75151990e+01\n",
      " -2.41073462e-01  1.42837096e+01 -2.35486019e+00  1.53274049e+01\n",
      "  1.02193215e+01 -1.98904129e+01 -1.43378133e+00 -1.50516554e+01]\n",
      "\n",
      "The y_values are: [ 3.44885313  1.94448123  1.95077453 -1.52394131 -2.51842825  0.19495125\n",
      "  3.6328774   0.78719225 -0.42075638 -2.01668152 -2.54651688  5.01149885\n",
      "  0.13064113  4.12322459 -0.45039818  4.41011632  3.00600248 -5.27058426\n",
      " -0.19721132 -3.94050293]\n",
      "\n"
     ]
    }
   ],
   "source": [
    "    # randomly generating an array of 20 x-values\n",
    "    x_values = np.array([rd.random() * 40 - 20 for i in range (0, 20)])\n",
    "    print(\"The x_values are: \" + str(x_values) + \"\\n\")\n",
    "\n",
    "\n",
    "    # using y = mx + b getting the array of 20 y-values\n",
    "    y_values = x_values * slope + intercept\n",
    "    print(\"The y_values are: \" + str(y_values) + \"\\n\")"
   ]
  },
  {
   "cell_type": "code",
   "execution_count": 4,
   "id": "9c457524",
   "metadata": {},
   "outputs": [
    {
     "name": "stdout",
     "output_type": "stream",
     "text": [
      "The shifted y_values are: [ 3.60848103  2.10410913  2.11040244 -1.36431341 -2.35880034  0.35457915\n",
      "  3.79250531  0.94682016 -0.26112848 -1.85705362 -3.31069279  4.24732295\n",
      " -0.63353477  3.35904868 -1.21457408  3.64594042  2.24182658 -6.03476017\n",
      " -0.96138722 -4.70467883]\n",
      "\n"
     ]
    }
   ],
   "source": [
    "    # shifting y-values\n",
    "    firsthalf = y_values[0:10] + rd.random()\n",
    "    secondhalf = y_values[10: ] - rd.random()\n",
    "    shifted_y = np.append(firsthalf,secondhalf)\n",
    "    print(\"The shifted y_values are: \" + str(shifted_y) + \"\\n\")"
   ]
  },
  {
   "cell_type": "code",
   "execution_count": 5,
   "id": "1ae2602a",
   "metadata": {},
   "outputs": [
    {
     "name": "stdout",
     "output_type": "stream",
     "text": [
      "The point coodinates are: [[ 1.18303860e+01  3.60848103e+00]\n",
      " [ 6.35756981e+00  2.10410913e+00]\n",
      " [ 6.38046448e+00  2.11040244e+00]\n",
      " [-6.26034679e+00 -1.36431341e+00]\n",
      " [-9.87823161e+00 -2.35880034e+00]\n",
      " [-7.11704627e-03  3.54579155e-01]\n",
      " [ 1.24998555e+01  3.79250531e+00]\n",
      " [ 2.14742079e+00  9.46820157e-01]\n",
      " [-2.24702510e+00 -2.61128479e-01]\n",
      " [-8.05290662e+00 -1.85705362e+00]\n",
      " [-9.98041641e+00 -3.31069279e+00]\n",
      " [ 1.75151990e+01  4.24732295e+00]\n",
      " [-2.41073462e-01 -6.33534773e-01]\n",
      " [ 1.42837096e+01  3.35904868e+00]\n",
      " [-2.35486019e+00 -1.21457408e+00]\n",
      " [ 1.53274049e+01  3.64594042e+00]\n",
      " [ 1.02193215e+01  2.24182658e+00]\n",
      " [-1.98904129e+01 -6.03476017e+00]\n",
      " [-1.43378133e+00 -9.61387221e-01]\n",
      " [-1.50516554e+01 -4.70467883e+00]]\n",
      "\n"
     ]
    }
   ],
   "source": [
    "    # point coordinates\n",
    "    points = np.asarray(tuple(zip(x_values, shifted_y)))\n",
    "    print(\"The point coodinates are: \" + str(points) + \"\\n\")"
   ]
  },
  {
   "cell_type": "code",
   "execution_count": 6,
   "id": "616d7223",
   "metadata": {},
   "outputs": [
    {
     "name": "stdout",
     "output_type": "stream",
     "text": [
      "The training set point coodinates are: [[11.83038605  3.60848103  1.        ]\n",
      " [ 6.35756981  2.10410913  1.        ]\n",
      " [ 6.38046448  2.11040244  1.        ]\n",
      " [-6.26034679 -1.36431341  1.        ]\n",
      " [-9.87823161 -2.35880034  1.        ]\n",
      " [-9.98041641 -3.31069279 -1.        ]\n",
      " [17.51519902  4.24732295 -1.        ]\n",
      " [-0.24107346 -0.63353477 -1.        ]\n",
      " [14.28370964  3.35904868 -1.        ]\n",
      " [-2.35486019 -1.21457408 -1.        ]]\n",
      "\n"
     ]
    }
   ],
   "source": [
    "    # give classes and putting points into training sets\n",
    "    classes = np.append([1 for i in range (0, 10)],[-1 for i in range (0, 10)])\n",
    "    dataset = np.array([np.append(points[i], classes[i]) for i in range (0, 20)])\n",
    "    training_set = np.concatenate((dataset[0:5], dataset[10:15]), axis=0)\n",
    "    print(\"The training set point coodinates are: \" + str(training_set) + \"\\n\")"
   ]
  },
  {
   "cell_type": "markdown",
   "id": "0001d15a",
   "metadata": {},
   "source": [
    "Make a Helper Function"
   ]
  },
  {
   "cell_type": "code",
   "execution_count": 7,
   "id": "b0442b96",
   "metadata": {},
   "outputs": [],
   "source": [
    "# generating random weight\n",
    "def generating_weight():\n",
    "    weight = [rd.random() for i in range (3)]\n",
    "    return weight\n",
    "\n",
    "# activation function\n",
    "def activation(training_set, wt, index):\n",
    "    bias = 1\n",
    "    threhold = 0\n",
    "    weight = wt\n",
    "    sum = training_set[index][0] * weight[0] + training_set[index][1] * weight[1] + bias * weight[2]    # x_i * w1 + y_i * w2 + bias * w3\n",
    "    if sum >= threhold:\n",
    "        return 1\n",
    "    else:\n",
    "        return -1\n",
    "\n",
    "# updating with delta rule\n",
    "def delta_rule(i, wt, obs, des):\n",
    "    eta = 0.1\n",
    "    for j in range (len(wt)):\n",
    "        wt[j] = wt[j] + ((des - obs) * eta * i[j])\n",
    "    return wt\n",
    "\n",
    "# verifying class with activation result\n",
    "def class_verify(activation_result, cls):\n",
    "    if activation_result == cls:\n",
    "        return True\n",
    "    else:\n",
    "        return False"
   ]
  },
  {
   "cell_type": "code",
   "execution_count": 8,
   "id": "ac3a1912",
   "metadata": {},
   "outputs": [
    {
     "name": "stdout",
     "output_type": "stream",
     "text": [
      "Final weight: [-0.623110186245823, 0.9203405216756574, -1.1373608652623193]\n"
     ]
    }
   ],
   "source": [
    "    weight = generating_weight()\n",
    "\n",
    "    # loop through the training set\n",
    "    for i in range (len(training_set)):\n",
    "        while (True):\n",
    "            result = activation(training_set, weight, i)   # activation process\n",
    "            if class_verify(result, training_set[i][2]):  # if clear then go to the next point\n",
    "                break\n",
    "            else:                                        # if fail then update weight with delta rule until clear\n",
    "                x = training_set[i][0]\n",
    "                y = training_set[i][1]\n",
    "                ipt = [x, y, 1]\n",
    "                weight = delta_rule(ipt, weight, result, training_set[i][2])\n",
    "    print(\"Final weight: \" + str(weight))    #report final weight"
   ]
  },
  {
   "cell_type": "markdown",
   "id": "b31f94e8",
   "metadata": {},
   "source": [
    "Is there anything incomplete about the above."
   ]
  },
  {
   "cell_type": "code",
   "execution_count": null,
   "id": "8b5e8551",
   "metadata": {},
   "outputs": [],
   "source": []
  }
 ],
 "metadata": {
  "kernelspec": {
   "display_name": "Python 3 (ipykernel)",
   "language": "python",
   "name": "python3"
  },
  "language_info": {
   "codemirror_mode": {
    "name": "ipython",
    "version": 3
   },
   "file_extension": ".py",
   "mimetype": "text/x-python",
   "name": "python",
   "nbconvert_exporter": "python",
   "pygments_lexer": "ipython3",
   "version": "3.10.2"
  }
 },
 "nbformat": 4,
 "nbformat_minor": 5
}
