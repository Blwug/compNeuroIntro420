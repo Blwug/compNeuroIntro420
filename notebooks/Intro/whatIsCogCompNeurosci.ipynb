{
 "cells": [
  {
   "cell_type": "markdown",
   "metadata": {
    "ein.tags": "worksheet-0",
    "slideshow": {
     "slide_type": "slide"
    }
   },
   "source": [
    "# How Today Is Going To Work"
   ]
  },
  {
   "cell_type": "markdown",
   "metadata": {
    "ein.tags": "worksheet-0",
    "slideshow": {
     "slide_type": "slide"
    }
   },
   "source": [
    "## This is a jupyter notebook"
   ]
  },
  {
   "cell_type": "markdown",
   "metadata": {
    "ein.tags": "worksheet-0",
    "slideshow": {
     "slide_type": "subslide"
    }
   },
   "source": [
    "You will use this in the course. Later today we will work on getting this installed on your computer, and what it is. But for now you will just see me use it in order to get a flyover of its capabilities."
   ]
  },
  {
   "cell_type": "markdown",
   "metadata": {
    "ein.tags": "worksheet-0",
    "slideshow": {
     "slide_type": "subslide"
    }
   },
   "source": [
    "We will talk about the syllabus - later."
   ]
  },
  {
   "cell_type": "markdown",
   "metadata": {
    "ein.tags": "worksheet-0",
    "slideshow": {
     "slide_type": "subslide"
    }
   },
   "source": [
    "But first we will talk about what Cognitive Computational Neuroscience even means"
   ]
  },
  {
   "cell_type": "markdown",
   "metadata": {
    "ein.tags": "worksheet-0",
    "slideshow": {
     "slide_type": "slide"
    }
   },
   "source": [
    "## Cognitive Computational Neuroscience"
   ]
  },
  {
   "cell_type": "markdown",
   "metadata": {
    "ein.tags": "worksheet-0",
    "slideshow": {
     "slide_type": "fragment"
    }
   },
   "source": [
    "What is it?"
   ]
  },
  {
   "cell_type": "markdown",
   "metadata": {
    "ein.tags": "worksheet-0",
    "slideshow": {
     "slide_type": "subslide"
    }
   },
   "source": [
    "### A New Conference"
   ]
  },
  {
   "cell_type": "markdown",
   "metadata": {
    "ein.tags": "worksheet-0",
    "slideshow": {
     "slide_type": "subslide"
    }
   },
   "source": [
    "An [article](https://doi.org/10.1016/j.tics.2018.02.008) discussing the motivations for the new meeting.\n",
    "\n",
    "The conference website program [index](https://ccneuro.org/2018/Papers/AcceptedPapers.asp)"
   ]
  },
  {
   "cell_type": "markdown",
   "metadata": {
    "ein.tags": "worksheet-0",
    "slideshow": {
     "slide_type": "slide"
    }
   },
   "source": [
    "### A Jupyter Notebook Mini-Demo"
   ]
  },
  {
   "cell_type": "code",
   "execution_count": 5,
   "metadata": {
    "autoscroll": false,
    "ein.hycell": false,
    "ein.tags": "worksheet-0",
    "slideshow": {
     "slide_type": "subslide"
    }
   },
   "outputs": [],
   "source": [
    "#This is python code\n",
    "import random as r;#imports a library for using random numbers\n",
    "\n",
    "sids = list(range(1,12));#generates ids for each student\n",
    "abstractIds = list(range(1010,1301));#ids for each abstract\n",
    " \n",
    "#zip works like a zipper to zip together two lists into a \"tuple\"\n",
    "yourSearch = list(zip(sids,r.sample(abstractIds,len(sids))))"
   ]
  },
  {
   "cell_type": "code",
   "execution_count": 6,
   "metadata": {
    "autoscroll": false,
    "ein.hycell": false,
    "ein.tags": "worksheet-0",
    "slideshow": {
     "slide_type": "subslide"
    }
   },
   "outputs": [
    {
     "data": {
      "text/plain": [
       "[(1, 1145),\n",
       " (2, 1056),\n",
       " (3, 1011),\n",
       " (4, 1088),\n",
       " (5, 1063),\n",
       " (6, 1031),\n",
       " (7, 1197),\n",
       " (8, 1192),\n",
       " (9, 1173),\n",
       " (10, 1154),\n",
       " (11, 1087)]"
      ]
     },
     "execution_count": 6,
     "metadata": {},
     "output_type": "execute_result"
    }
   ],
   "source": [
    "yourSearch"
   ]
  },
  {
   "cell_type": "code",
   "execution_count": 7,
   "metadata": {
    "autoscroll": false,
    "ein.hycell": false,
    "ein.tags": "worksheet-0",
    "scrolled": true,
    "slideshow": {
     "slide_type": "subslide"
    }
   },
   "outputs": [
    {
     "data": {
      "text/plain": [
       "[(6, 1031),\n",
       " (11, 1087),\n",
       " (3, 1011),\n",
       " (4, 1088),\n",
       " (10, 1154),\n",
       " (8, 1192),\n",
       " (2, 1056),\n",
       " (9, 1173),\n",
       " (7, 1197),\n",
       " (5, 1063),\n",
       " (1, 1145)]"
      ]
     },
     "execution_count": 7,
     "metadata": {},
     "output_type": "execute_result"
    }
   ],
   "source": [
    "r.shuffle(yourSearch)\n",
    "\n",
    "yourSearch"
   ]
  },
  {
   "cell_type": "markdown",
   "metadata": {
    "ein.tags": "worksheet-0",
    "slideshow": {
     "slide_type": "subslide"
    }
   },
   "source": [
    "#### Activity\n",
    "\n",
    "1. Find your abstract.\n",
    "2. 15 minutes to read.\n",
    "3. 3 - 5 minutes to present a summary."
   ]
  },
  {
   "cell_type": "markdown",
   "metadata": {
    "ein.tags": "worksheet-0",
    "slideshow": {
     "slide_type": "subslide"
    }
   },
   "source": [
    "#### Goal\n",
    "\n",
    "To understand the breadth of **techniques** and **topics** that fall under the heading of cognitive computational neuroscience. "
   ]
  },
  {
   "cell_type": "markdown",
   "metadata": {
    "ein.tags": "worksheet-0",
    "slideshow": {
     "slide_type": "notes"
    }
   },
   "source": [
    "#### Comments"
   ]
  },
  {
   "cell_type": "markdown",
   "metadata": {
    "ein.tags": "worksheet-0",
    "slideshow": {
     "slide_type": "notes"
    }
   },
   "source": [
    "N.B. Almost any permutation of the words cognitve computation(al) model neuroscience will yield a slightly different community. \n",
    "\n",
    "Question: What is the difference between cognitive computational modeling and cognitive computational neuroscience."
   ]
  },
  {
   "cell_type": "markdown",
   "metadata": {
    "ein.tags": "worksheet-0",
    "slideshow": {
     "slide_type": "slide"
    }
   },
   "source": [
    "## Homework\n",
    "\n",
    "Provide a two paragraph summary of the goals of the cognitve computational neuroscience society, as described in the article linked above, and a final paragraph sharing how you see those goals matching up with your reasons for taking this course. "
   ]
  },
  {
   "cell_type": "markdown",
   "metadata": {
    "ein.tags": "worksheet-0",
    "slideshow": {
     "slide_type": "slide"
    }
   },
   "source": [
    "# Part II - Syllabus\n",
    "\n",
    "[my file](./syllabus/syllabus.html)"
   ]
  },
  {
   "cell_type": "markdown",
   "metadata": {
    "slideshow": {
     "slide_type": "slide"
    }
   },
   "source": [
    "## Terminal\n",
    "\n",
    "What is it?"
   ]
  },
  {
   "cell_type": "markdown",
   "metadata": {
    "ein.tags": "worksheet-0",
    "slideshow": {
     "slide_type": "subslide"
    }
   },
   "source": [
    "First there was the command line"
   ]
  },
  {
   "cell_type": "markdown",
   "metadata": {
    "ein.tags": "worksheet-0",
    "slideshow": {
     "slide_type": "subslide"
    }
   },
   "source": [
    "Find the terminal on your operating system."
   ]
  },
  {
   "cell_type": "markdown",
   "metadata": {
    "ein.tags": "worksheet-0",
    "slideshow": {
     "slide_type": "slide"
    }
   },
   "source": [
    "## IDEs"
   ]
  },
  {
   "cell_type": "markdown",
   "metadata": {
    "ein.tags": "worksheet-0",
    "slideshow": {
     "slide_type": "subslide"
    }
   },
   "source": [
    "What does IDE stand for?\n",
    "What are examples?"
   ]
  },
  {
   "cell_type": "markdown",
   "metadata": {
    "ein.tags": "worksheet-0",
    "slideshow": {
     "slide_type": "-"
    }
   },
   "source": [
    "### Emacs\n",
    "\n",
    "1. For [Windows](https://www.gnu.org/software/emacs/download.html)\n",
    "2. For Macs - look in your terminal, or try [OSX](https://emacsformacosx.com/)\n",
    "3. For Linux - use your package manager and look down your nose at the non-linux users sitting near you, and sniff in a dismissive fashion."
   ]
  },
  {
   "cell_type": "markdown",
   "metadata": {
    "ein.tags": "worksheet-0",
    "slideshow": {
     "slide_type": "subslide"
    }
   },
   "source": [
    "### Atom \n",
    "\n",
    "[Atom](https://github.com/atom/atom) is a free text editor for coding"
   ]
  },
  {
   "cell_type": "markdown",
   "metadata": {
    "ein.tags": "worksheet-0",
    "slideshow": {
     "slide_type": "subslide"
    }
   },
   "source": [
    "#### Sublime Text\n",
    "\n",
    "[Download](https://www.sublimetext.com/3)"
   ]
  },
  {
   "cell_type": "markdown",
   "metadata": {
    "ein.tags": "worksheet-0",
    "slideshow": {
     "slide_type": "slide"
    }
   },
   "source": [
    "## Version Control\n",
    "\n",
    "There are many of these. We will use *git*. This does *not* have to go through github, but we will sue (*fix typo demo*) the github interface for our sharing and learning."
   ]
  },
  {
   "cell_type": "markdown",
   "metadata": {
    "ein.tags": "worksheet-0",
    "slideshow": {
     "slide_type": "subslide"
    }
   },
   "source": [
    "### Git\n",
    "\n",
    "For windows and mac users can try this: https://desktop.github.com/. Windows users could also set up [Windows subsystem for linux](https://docs.microsoft.com/en-us/windows/wsl/install-win10). \n",
    "Linux people can just install \"git\" as a package"
   ]
  },
  {
   "cell_type": "markdown",
   "metadata": {
    "ein.tags": "worksheet-0",
    "slideshow": {
     "slide_type": "subslide"
    }
   },
   "source": [
    "Looking ahead. You will have a homework that depends on git, and you will find git convenient for grabbing copies of the ipynb files we will use in class, so you might as well get it now.\n",
    "\n",
    "[Course Github Repository](https://github.com/brittAnderson/compNeuroIntro420)"
   ]
  },
  {
   "cell_type": "markdown",
   "metadata": {
    "ein.tags": "worksheet-0",
    "slideshow": {
     "slide_type": "slide"
    }
   },
   "source": [
    "## Programming Languages"
   ]
  },
  {
   "cell_type": "markdown",
   "metadata": {
    "ein.tags": "worksheet-0",
    "slideshow": {
     "slide_type": "subslide"
    }
   },
   "source": [
    "### R\n",
    "\n",
    "[Base R](https://cran.r-project.org/)\n",
    "\n",
    "[R studio](https://www.rstudio.com/)"
   ]
  },
  {
   "cell_type": "markdown",
   "metadata": {
    "ein.tags": "worksheet-0",
    "slideshow": {
     "slide_type": "subslide"
    }
   },
   "source": [
    "### Python\n",
    "\n",
    "It is fairly easy to install Python, but if you are inexperienced this can take awhile and be a barrier for entry. Therefore, I recommend that you use the [Anaconda](https://www.anaconda.com/distribution/). This is a complete, all the bells and whistles distribution. It will give you much more than you need, but it is the easiest way to get going. Feel free to try out more minimal versions if you are more experimental."
   ]
  },
  {
   "cell_type": "markdown",
   "metadata": {
    "ein.tags": "worksheet-0",
    "slideshow": {
     "slide_type": "slide"
    }
   },
   "source": [
    "## Literate Programming"
   ]
  },
  {
   "cell_type": "markdown",
   "metadata": {
    "ein.tags": "worksheet-0",
    "slideshow": {
     "slide_type": "subslide"
    }
   },
   "source": [
    "### Literate Programming with Python - Project Jupyter (IPython)\n",
    "\n",
    "You can do this for a variety of languages and RStudio is a very good tool for this, too. But we will be using Jupyter. You get this with your Anaconda installation if you chose that. Jupyter will also work with R, but requires some setting of configurations, and I suggest you defer setting that up for now.     \n",
    "\n",
    "[Jupyter](http://jupyter.org)"
   ]
  },
  {
   "cell_type": "markdown",
   "metadata": {
    "ein.tags": "worksheet-0",
    "slideshow": {
     "slide_type": "slide"
    }
   },
   "source": [
    "# What Can You Do In a Notebook? More mini-demos.\n",
    "\n",
    "Interpreters and Compilers. Notebooks let you step through code and evaluate it as you go. You view it with a webserver because the output is actually javascript. That is why it will look weird if you open up the native, raw file. You can extract the code if you need to, but for now we will just use it out of the box. "
   ]
  },
  {
   "cell_type": "code",
   "execution_count": 10,
   "metadata": {
    "autoscroll": false,
    "ein.hycell": false,
    "ein.tags": "worksheet-0",
    "slideshow": {
     "slide_type": "subslide"
    }
   },
   "outputs": [
    {
     "name": "stdout",
     "output_type": "stream",
     "text": [
      "Hello python!\n"
     ]
    }
   ],
   "source": [
    "#We can evaluate simple lines of code, like printing a statement. \n",
    "\n",
    "print(\"Hello python!\")"
   ]
  },
  {
   "cell_type": "code",
   "execution_count": 11,
   "metadata": {
    "autoscroll": false,
    "ein.hycell": false,
    "ein.tags": "worksheet-0",
    "scrolled": false,
    "slideshow": {
     "slide_type": "subslide"
    }
   },
   "outputs": [
    {
     "name": "stdout",
     "output_type": "stream",
     "text": [
      "The rpy2.ipython extension is already loaded. To reload it, use:\n",
      "  %reload_ext rpy2.ipython\n",
      "Hello R\n"
     ]
    }
   ],
   "source": [
    "#We can /import/ libraries to use. Here we are using *R*'s print function. \n",
    "import rpy2\n",
    "%load_ext rpy2.ipython\n",
    "\n",
    "\n",
    "print(\"Hello R\")"
   ]
  },
  {
   "cell_type": "markdown",
   "metadata": {
    "autoscroll": false,
    "ein.hycell": false,
    "ein.tags": "worksheet-0",
    "slideshow": {
     "slide_type": "subslide"
    }
   },
   "source": [
    "You can embed other kinds of code in a notebook too. Here I am embedding a youtube video. You can make fancy slide shows directly from jupyter notebooks. Of course, there is some configuration and other tools you will need to make all that work smoothly. "
   ]
  },
  {
   "cell_type": "code",
   "execution_count": 9,
   "metadata": {
    "autoscroll": false,
    "ein.hycell": false,
    "ein.tags": "worksheet-0",
    "slideshow": {
     "slide_type": "subslide"
    }
   },
   "outputs": [
    {
     "data": {
      "text/html": [
       "<iframe width=\"560\" height=\"315\" src=\"https://www.youtube.com/embed/ubIpoPjBUds\" frameborder=\"0\" allow=\"autoplay; encrypted-media\" allowfullscreen></iframe>\n"
      ],
      "text/plain": [
       "<IPython.core.display.HTML object>"
      ]
     },
     "metadata": {
      "text/html": {
       "isolated": true
      }
     },
     "output_type": "display_data"
    }
   ],
   "source": [
    "%%html --isolated\n",
    "<iframe width=\"560\" height=\"315\" src=\"https://www.youtube.com/embed/ubIpoPjBUds\" frameborder=\"0\" allow=\"autoplay; encrypted-media\" allowfullscreen></iframe>"
   ]
  },
  {
   "cell_type": "markdown",
   "metadata": {
    "ein.tags": "worksheet-0",
    "slideshow": {
     "slide_type": "subslide"
    }
   },
   "source": [
    "I can also link to images, and show them inline. Here is my favorite comic strip, and one beloved by programmers. \n",
    "\n",
    "![Python Environment XKCD](https://imgs.xkcd.com/comics/python_environment.png )"
   ]
  },
  {
   "cell_type": "markdown",
   "metadata": {
    "ein.tags": "worksheet-0",
    "slideshow": {
     "slide_type": "slide"
    }
   },
   "source": [
    "### Directories and Files (from the terminal)"
   ]
  },
  {
   "cell_type": "markdown",
   "metadata": {
    "ein.tags": "worksheet-0",
    "slideshow": {
     "slide_type": "notes"
    }
   },
   "source": [
    "Installing, configuring, and debugging will often require you to know about the directories on your computer. And you will often find the need to use or set options on the command line through a terminal. Look at your file browser and then try these commands to see how they work in a terminal. Like the Wizard of Oz your GUI interfaces often present pretty pictures that disguise the simple workings behind the curtain. \n",
    "\n",
    "1. Windows: `dir /s /b` or `tree /a /f`\n",
    "2. Mac/Linux: `pwd`"
   ]
  },
  {
   "cell_type": "markdown",
   "metadata": {
    "ein.tags": "worksheet-0",
    "slideshow": {
     "slide_type": "slide"
    }
   },
   "source": [
    "### Markdown\n",
    "\n",
    "In your jupyter notebook you have the chance to mix rich text, specified by markdown syntax and code. That way you can document what you are doing as you go along. Want to know the syntax for this? Search for [cheatsheets](https://github.com/adam-p/markdown-here/wiki/Markdown-Cheatsheet#code)."
   ]
  },
  {
   "cell_type": "markdown",
   "metadata": {
    "ein.tags": "worksheet-0",
    "slideshow": {
     "slide_type": "slide"
    }
   },
   "source": [
    "### Looking ahead.\n",
    "\n",
    "We will be using version control. If you have some time do a little reading on \"pull requests\" and \"forking\" and \"cloning\" a \"repo.\" That will be part of next weeks homework.\n"
   ]
  },
  {
   "cell_type": "markdown",
   "metadata": {
    "ein.tags": "worksheet-0",
    "slideshow": {
     "slide_type": "slide"
    }
   },
   "source": [
    "#### Download this notebook file\n",
    "\n",
    "Want to see what the raw file looks like? Or want to practice some of the commands I use here? Then download the file from our [course git repo](https://github.com/brittAnderson/compNeuroIntro420.git)."
   ]
  }
 ],
 "metadata": {
  "celltoolbar": "Slideshow",
  "kernelspec": {
   "display_name": "Python 3 (ipykernel)",
   "language": "python",
   "name": "python3"
  },
  "language_info": {
   "codemirror_mode": {
    "name": "ipython",
    "version": 3
   },
   "file_extension": ".py",
   "mimetype": "text/x-python",
   "name": "python",
   "nbconvert_exporter": "python",
   "pygments_lexer": "ipython3",
   "version": "3.9.7"
  },
  "name": "whatIsCogCompNeurosci.ipynb"
 },
 "nbformat": 4,
 "nbformat_minor": 2
}
