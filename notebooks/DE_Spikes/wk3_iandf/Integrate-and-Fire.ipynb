{
 "cells": [
  {
   "cell_type": "markdown",
   "metadata": {
    "ein.tags": "worksheet-0",
    "slideshow": {
     "slide_type": "slide"
    }
   },
   "source": [
    "\n",
    "# Integrate and Fire Neurons"
   ]
  },
  {
   "cell_type": "raw",
   "metadata": {
    "ein.tags": "worksheet-0",
    "slideshow": {
     "slide_type": "subslide"
    }
   },
   "source": [
    "1. What is a **point neuron** model?\n",
    "2. What are the alternatives to a **point neuron** model? Give some examples.\n",
    "3. Why would you chose the **point neuron** model or an alternative, i.e., what are the trade-offs?"
   ]
  },
  {
   "cell_type": "markdown",
   "metadata": {
    "ein.tags": "worksheet-0",
    "slideshow": {
     "slide_type": "subslide"
    }
   },
   "source": [
    "## Lapique (1907)\n",
    "\n",
    "[Commentary on Lapique's 1907 Paper; pdf](https://homepages.inf.ed.ac.uk/mvanross/reprints/lapique2007.pdf)\n",
    "\n",
    "[Original French Paper (scanned); pdf](http://www.snv.jussieu.fr/brette/papers/Lap07.pdf)"
   ]
  },
  {
   "cell_type": "markdown",
   "metadata": {
    "ein.tags": "worksheet-0",
    "slideshow": {
     "slide_type": "slide"
    }
   },
   "source": [
    "![Lapique's laboratory at the Sorbonne](https://upload.wikimedia.org/wikipedia/commons/a/ac/Lapicque_laboratoire.jpg)"
   ]
  },
  {
   "cell_type": "markdown",
   "metadata": {
    "ein.tags": "worksheet-0",
    "slideshow": {
     "slide_type": "notes"
    }
   },
   "source": [
    "#### Notes:\n",
    "1. Read the Lapique commentary paper.\n",
    "2. When did the Integrate and Fire model first become discussed?\n",
    "3. What is the difference between the _leaky_ integrate and fire, the _forgetful_ integrate and fire, and the _plain_ integrate and fire?\n",
    "4. One of the early studies was by Gerstein and Mandelbrot (1964). What is Mandelbrot better known for?\n",
    "5. Why does the article say that I and F models are popular?\n",
    "6. Why is it somewhat surprising that Lapique gave this description of the neuron in 1907? And does that explain why it was not more commonly utilized until the 1960s and later?\n",
    "7. When plotting the Integrate and Fire neuron model how many axes do you need and what are the labels for them?"
   ]
  },
  {
   "cell_type": "markdown",
   "metadata": {
    "ein.tags": "worksheet-0",
    "slideshow": {
     "slide_type": "slide"
    }
   },
   "source": [
    "## Good, Free Online Books on Computational Neuroscience\n",
    "\n",
    "More detailed than mine, may not be as helpful to the novice.\n",
    "\n",
    "1. [Gerstner and Kistler _Spiking Neurons_](http://lcn.epfl.ch/~gerstner/BUCH.html)\n",
    "\n",
    "2. [Gerstner et al _Neuronal Dynamics_](http://neuronaldynamics.epfl.ch/online/index.html)"
   ]
  },
  {
   "cell_type": "markdown",
   "metadata": {
    "ein.tags": "worksheet-0",
    "slideshow": {
     "slide_type": "slide"
    }
   },
   "source": [
    "## The Integrate and Fire Equation\n",
    "\n",
    "$$\\tau \\frac{dV(t)}{dt} = -V(t) + R~I(t)$$"
   ]
  },
  {
   "cell_type": "markdown",
   "metadata": {
    "ein.tags": "worksheet-0",
    "slideshow": {
     "slide_type": "notes"
    }
   },
   "source": [
    "#### Notes\n",
    "1. What does $\\frac{dV}{dt}$ mean?\n",
    "    \n",
    "    It is the derivative. It is the how the voltage changes as a function of how time changes.\n",
    "\n",
    "2. What does $\\frac{1}{\\tau}$ mean?\n",
    "\n",
    "    It is the membrane time constant and can be related to the membrane capacitance. Since it is a constant, with a clever choice of units you can assume it to be one and make it disappear.\n",
    "\n",
    "3. Why does the voltage term on the right have a negative sign?\n",
    "\n",
    "    To get the intuition of a model you don't always have to compute things. You can also get some qualitative behaviour just by looking at it. The larger the voltage the more negative becomes its rate of change and vice versa. It drives everything back to some point at which the rate of change to an equilibrium point. We will come back to this notion of a fixed point or attractor.\n",
    "\n",
    "4. What is $I(t)$?\n",
    "\n",
    "    It is the current term. $I$ is the common abbreviation for current. Why? I don't know, can someone help?\n",
    "\n",
    "5. Put it all together\n",
    "\n",
    "    The voltage in the future will be a sum of whatever current is being added minus a function of the current voltage.\n",
    "\n",
    "6. Why, if we don't reach a threshold to fire an action potential, do we see an exponential decay?\n",
    "\n",
    "    This is where you need to remember what came before. See that the change in voltage is proportional to itself. Solutions to these types of equations involve exponentials. Remember? But note the sign. It is negative. That is why it is an exponential decay instead of an exponential growth."
   ]
  },
  {
   "cell_type": "markdown",
   "metadata": {
    "ein.tags": "worksheet-0",
    "slideshow": {
     "slide_type": "slide"
    }
   },
   "source": [
    "### Where does the leaky integrate and fire equation come from?"
   ]
  },
  {
   "cell_type": "markdown",
   "metadata": {
    "ein.tags": "worksheet-0",
    "slideshow": {
     "slide_type": "notes"
    }
   },
   "source": [
    "1. Group to write and explain Ohm's law again.\n",
    "\n",
    "    **Ohm's Law** (empirically observed): $V = IR$\n",
    "    \n",
    "2. Group to explain what is the relationship between current and charge?\n",
    "\n",
    "    Current: The derivative of charge with respect to time, $I = \\frac{dQ}{dt}$\n",
    "    \n",
    "3. Group to explain **Kirchoff's Point Rule** again.\n",
    "\n",
    "    Current sums to zero: All the current sources going to a node in a circuit must sum to zero.\n",
    "    \n",
    "4. Group to explain what is capacitance.\n",
    "    \n",
    "    Capacitance is a source of current. A capacitor is a sandwich of two conducting surfaces with a non-conducting body in between. If you a charge to one side, the electrons gather there. They can't leap the gap, so they exert an attraction for particles of the opposite charge on the other side of the gap.  If you suddenly stop the charge then charge races around and you discharge a current.\n",
    "    \n",
    "5. Group to explain the relationship, mathematically, between capacitance, charge, and voltage.\n",
    "    \n",
    "    $C = Q/V.$ The volume of charge, per unit area, divided by the voltage that produces this imbalance in charge.  \n",
    "    \n",
    "6.  Together as a class, what happens when you differentiate this equation with respect to time and treat the capacitance as a constant?\n",
    "\n",
    "    $C \\frac{dV}{dt} = \\frac{dQ}{dt} = I$"
   ]
  },
  {
   "cell_type": "markdown",
   "metadata": {
    "ein.tags": "worksheet-0",
    "slideshow": {
     "slide_type": "slide"
    }
   },
   "source": [
    "### Deriving the IandF Equation"
   ]
  },
  {
   "cell_type": "markdown",
   "metadata": {
    "ein.tags": "worksheet-0",
    "slideshow": {
     "slide_type": "subslide"
    }
   },
   "source": [
    "\\begin{align*}\n",
    "I &= I_R + I_C \\\\ \n",
    "I &= I_R + C\\frac{dV}{dt}\\\\ \n",
    "I &= \\frac{V}{R} + C\\frac{dV}{dt}\\\\ \n",
    "RI - V &= RC\\frac{dV}{dt} = \\tau\\frac{dV}{dt}\\\\ \n",
    "\\end{align*}"
   ]
  },
  {
   "cell_type": "markdown",
   "metadata": {
    "ein.tags": "worksheet-0",
    "slideshow": {
     "slide_type": "notes"
    }
   },
   "source": [
    "#### Notes\n",
    "\n",
    "Get them to walk through the derivation with me, and understand how we justify which steps we take."
   ]
  },
  {
   "cell_type": "markdown",
   "metadata": {
    "ein.tags": "worksheet-0",
    "slideshow": {
     "slide_type": "slide"
    }
   },
   "source": [
    "## Coding up the Integrate and Fire Neuron\n",
    "\n",
    "Basically almost the same as the spring example. Use that as a guide."
   ]
  },
  {
   "cell_type": "code",
   "execution_count": 2,
   "metadata": {
    "autoscroll": false,
    "ein.hycell": false,
    "ein.tags": "worksheet-0",
    "slideshow": {
     "slide_type": "subslide"
    }
   },
   "outputs": [
    {
     "ename": "SyntaxError",
     "evalue": "invalid syntax (<ipython-input-2-0b33091e2d34>, line 6)",
     "output_type": "error",
     "traceback": [
      "\u001b[0;36m  File \u001b[0;32m\"<ipython-input-2-0b33091e2d34>\"\u001b[0;36m, line \u001b[0;32m6\u001b[0m\n\u001b[0;31m    dt        =\u001b[0m\n\u001b[0m                ^\u001b[0m\n\u001b[0;31mSyntaxError\u001b[0m\u001b[0;31m:\u001b[0m invalid syntax\n"
     ]
    }
   ],
   "source": [
    "%matplotlib inline\n",
    "import matplotlib.pyplot as p\n",
    "import numpy as np\n",
    "\n",
    "#define constants\n",
    "dt        = \n",
    "maxT      = \n",
    "time      = \n",
    "cap       = \n",
    "res       = \n",
    "thresh    = \n",
    "spikeDispl= 8; # arbitrary value used for \"pasting on\" a spike. Not needed, just nice for display.\n",
    "tau       = \n",
    "voltage   = \n",
    "curMag    = \n",
    "injCurrent = ;#a tuple for start and stop of current injection\n",
    "def newVal(ov,dt,dv):\n",
    "    return(\"something here\")\n",
    "\n",
    "def dvdt(tau,res,v,i):\n",
    "    return(\"something here\")\n",
    "\n",
    "for j in time:\n",
    "    if (injCurrent[0] < j <= injCurrent[1]):\n",
    "        #what do I do if time is in the bounds when current should be injected?\n",
    "    else:\n",
    "        curCur = 0\n",
    "    tempV = ;# how do I figure out the voltage at the next time step\n",
    "    if voltage[-1] == spikeDisplay: \n",
    "        ;#what should the voltage be if I just spiked? Why?\n",
    "    elif tempV > thresh:\n",
    "        ;#what should the voltage be if I am above threshold?\n",
    "    else: \n",
    "        ;#and what about the other cases?\n",
    "    \n",
    "\n",
    "p.plot(time,voltage[0:-1]);#again, what is the '-1' doing?\n",
    "p.show()"
   ]
  },
  {
   "cell_type": "code",
   "execution_count": 1,
   "metadata": {
    "autoscroll": false,
    "ein.hycell": false,
    "ein.tags": "worksheet-0",
    "slideshow": {
     "slide_type": "skip"
    }
   },
   "outputs": [],
   "source": [
    "%matplotlib inline\n",
    "import matplotlib.pyplot as p\n",
    "import numpy as np\n",
    "\n",
    "#define constants\n",
    "dt = 0.01; #time step is \"delta\" t\n",
    "maxT = 10; # maximum time for simulation\n",
    "time = np.arange(0,maxT,dt)\n",
    "cap = 1;# capacitance set to 1, why?\n",
    "res = 3;# resistance\n",
    "thresh = 3; #threshold for spike - why is this needed?\n",
    "spikeDisplay = 8; # arbitrary value used for \"pasting on\" a spike. Not needed, just nice for display.\n",
    "tau = res*cap\n",
    "voltage = [0];#what does the \"0\" represent here?\n",
    "injCurrent = (1.0,6.0);#using tuple to represent when to start and end \"current\" injection\n",
    "curMag = 3.0"
   ]
  },
  {
   "cell_type": "code",
   "execution_count": 2,
   "metadata": {
    "autoscroll": false,
    "ein.hycell": false,
    "ein.tags": "worksheet-0",
    "slideshow": {
     "slide_type": "skip"
    }
   },
   "outputs": [],
   "source": [
    "def newVal(ov,dt,dv):\n",
    "    return(ov + dv*dt)\n",
    "\n",
    "def dvdt(tau,res,v,i):\n",
    "    return((1/tau)*(res*i - v))"
   ]
  },
  {
   "cell_type": "code",
   "execution_count": 3,
   "metadata": {
    "autoscroll": false,
    "ein.hycell": false,
    "ein.tags": "worksheet-0",
    "slideshow": {
     "slide_type": "skip"
    }
   },
   "outputs": [
    {
     "data": {
      "image/png": "[encoded data removed]",
      "text/plain": [
       "<Figure size 640x480 with 1 Axes>"
      ]
     },
     "metadata": {},
     "output_type": "display_data"
    }
   ],
   "source": [
    "for j in time:\n",
    "    if (injCurrent[0] < j <= injCurrent[1]):\n",
    "        curCur = curMag\n",
    "    else:\n",
    "        curCur = 0\n",
    "    tempV = newVal(voltage[-1],dt,dvdt(tau,res,voltage[-1],curCur))\n",
    "    if any([x == 8 for x in voltage[-4:-1]]): \n",
    "        voltage.append(0)\n",
    "    elif tempV > thresh:\n",
    "        voltage.append(spikeDisplay)\n",
    "    else: \n",
    "        voltage.append(tempV)\n",
    "    \n",
    "\n",
    "p.plot(time,voltage[:-1])\n",
    "p.show()"
   ]
  },
  {
   "cell_type": "code",
   "execution_count": 15,
   "metadata": {},
   "outputs": [
    {
     "data": {
      "text/plain": [
       "[3, 4]"
      ]
     },
     "execution_count": 15,
     "metadata": {},
     "output_type": "execute_result"
    }
   ],
   "source": [
    "a=[1,2,3,4]\n",
    "a[-2:]"
   ]
  }
 ],
 "metadata": {
  "kernelspec": {
   "display_name": "Python 3",
   "language": "python",
   "name": "python3"
  },
  "language_info": {
   "codemirror_mode": {
    "name": "ipython",
    "version": 3
   },
   "file_extension": ".py",
   "mimetype": "text/x-python",
   "name": "python",
   "nbconvert_exporter": "python",
   "pygments_lexer": "ipython3",
   "version": "3.9.5"
  },
  "livereveal": {
   "scroll": true
  },
  "name": "Integrate-and-Fire.ipynb"
 },
 "nbformat": 4,
 "nbformat_minor": 2
}
